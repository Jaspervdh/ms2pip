{
 "cells": [
  {
   "cell_type": "code",
   "execution_count": 1,
   "metadata": {},
   "outputs": [
    {
     "data": {
      "text/html": [
       "<link href=\"https://fonts.googleapis.com/css?family=Montserrat|Open+Sans|Raleway:700\" rel=\"stylesheet\">\n",
       "\n",
       "<style>\n",
       "\t.rendered_html *:not(pre code) {\n",
       "      font-family: 'Open Sans', sans-serif;\n",
       "      color: #212121;\n",
       "\t  /* margin-top: 0;\n",
       "\t  margin-bottom: 1rem; */\n",
       "\t}\n",
       "\n",
       "\t.rendered_html h1, .rendered_html h2, .rendered_html h3, .rendered_html h4, .rendered_html h5, .rendered_html h6 {\n",
       "      font-family: 'Open Sans', sans-serif;\n",
       "      color: #212935;\n",
       "\t  /* margin-top: 0;\n",
       "\t  margin-bottom: 0.5rem; */\n",
       "\t}\n",
       "\n",
       "\t.rendered_html ul, .rendered_html ol{\n",
       "\t\tmargin-top: 0;\n",
       "\t}\n",
       "\n",
       "\t.rendered_html table * {\n",
       "\t\tfont-family: 'Calibri', sans-serif;\n",
       " \t\tfont-size: 14px;\n",
       "\t}\n",
       "    .rendered_html table {\n",
       "        display: block;\n",
       "    }\n",
       "\n",
       "    .code_cell .run_this_cell {\n",
       "        display: none;\n",
       "    }\n",
       "</style>"
      ],
      "text/plain": [
       "<IPython.core.display.HTML object>"
      ]
     },
     "execution_count": 1,
     "metadata": {},
     "output_type": "execute_result"
    }
   ],
   "source": [
    "import numpy as np\n",
    "import pandas as pd\n",
    "from scipy.stats import pearsonr\n",
    "from math import acos, sqrt\n",
    "import warnings\n",
    "\n",
    "# Plotting\n",
    "import matplotlib.pyplot as plt\n",
    "import seaborn as sns\n",
    "sns.set_style('whitegrid')\n",
    "sns.set_context(\"paper\", font_scale=(1.4))\n",
    "%matplotlib inline\n",
    "\n",
    "from IPython.core.display import HTML; css_file = '../2019/style.css'; HTML(open(css_file, \"r\").read())"
   ]
  },
  {
   "attachments": {},
   "cell_type": "markdown",
   "metadata": {},
   "source": [
    "# MS²PIP 2023 manuscript - Figures\n",
    "\n",
    "This notebook contains the generation of the figures for the MS²PIP 2022 manuscript:\n",
    "\n",
    "\n",
    "The notebook requires the following files:\n",
    "\n",
    "\n",
    "The notebook was run in Python 3.8.13 with the following packages:\n",
    "\n",
    "ipython==8.4.0\\\n",
    "numpy==1.23.0\\\n",
    "pandas==1.4.3\\\n",
    "matplotlib==3.5.2\\\n",
    "seaborn==0.11.2"
   ]
  },
  {
   "attachments": {},
   "cell_type": "markdown",
   "metadata": {},
   "source": [
    "## Functions"
   ]
  },
  {
   "cell_type": "code",
   "execution_count": 2,
   "metadata": {},
   "outputs": [],
   "source": [
    "def ms2pip_pearson(true, pred):\n",
    "    \"\"\"\n",
    "    Return pearson of tic-normalized, log-transformed intensities, \n",
    "    the MS2PIP way.\n",
    "    \"\"\"\n",
    "    #tic_norm = lambda x: x / np.sum(x)\n",
    "    # log_transform = lambda x: np.log2(x + 0.001)\n",
    "    corr = pearsonr(\n",
    "        true, \n",
    "        pred\n",
    "    )[0]\n",
    "    return (corr)\n",
    "\n",
    "\n",
    "def spectral_angle(true, pred, epsilon=1e-7):\n",
    "    \"\"\"\n",
    "    Return square root normalized spectral angle.\n",
    "    See https://doi.org/10.1074/mcp.O113.036475\n",
    "    \"\"\"\n",
    "    \n",
    "    de_log = lambda x: (2**x)-0.001\n",
    "    l2_normalize = lambda x: x / sqrt(max(sum(x**2), epsilon))\n",
    "    \n",
    "    pred_norm = l2_normalize(de_log(pred))\n",
    "    true_norm = l2_normalize(de_log(true))\n",
    "    \n",
    "    spectral_angle = 1 - (2 * acos(np.dot(pred_norm, true_norm)) / np.pi)\n",
    "\n",
    "    return (spectral_angle)\n",
    "\n",
    "def data_loading(filename, filename_mapper):\n",
    "    ms2pip_models = {\n",
    "        \"_HCD2019_\": \"2019 HCD\",\n",
    "        \"_Immuno-HCD_\": \"Immuno HCD\",\n",
    "        \"_CID_\": \"CID\",\n",
    "        \"_CID-TMT\": \"CID-TMT\",\n",
    "        \"_HCD2021_\": \"2021 HCD\",\n",
    "        \"_TMT_\": \"TMT\"\n",
    "    }\n",
    "\n",
    "    test_df = pd.read_csv(\"/home/arthur/ms2pip-nar-manuscript/\" + filename)\n",
    "    with warnings.catch_warnings():\n",
    "        warnings.simplefilter(\"ignore\")\n",
    "        df = test_df.groupby([\"spec_id\"]).agg({\"prediction\": list, \"target\": list}).reset_index()\n",
    "        df[\"pearson\"] = df.apply(lambda x: ms2pip_pearson(x.target, x.prediction), axis=1)\n",
    "        df[\"SA\"] = df.apply(lambda x: spectral_angle(np.array(x.target), np.array(x.prediction)), axis=1)\n",
    "        df[\"data\"] = filename_mapper[filename]\n",
    "        for model_name, model in ms2pip_models.items():\n",
    "            if model_name in filename:\n",
    "                ms2pip_model = model\n",
    "        df[\"model\"] = ms2pip_model\n",
    "\n",
    "        return df[[\"spec_id\", \"pearson\", \"SA\", \"data\", \"model\"]]\n",
    "\n",
    "def convert_liststring_to_list(liststring):\n",
    "    liststring = liststring[1:-1]\n",
    "    return [float(x) for x in liststring.split(\",\")]    \n"
   ]
  },
  {
   "attachments": {},
   "cell_type": "markdown",
   "metadata": {},
   "source": [
    "## Loading the prediction files"
   ]
  },
  {
   "cell_type": "code",
   "execution_count": 3,
   "metadata": {},
   "outputs": [],
   "source": [
    "data_set_map = {\n",
    "    \"HCD_PXD008034_Ecoli_HCD2021_pred_and_emp.csv\": \"tryptic\",\n",
    "    \"HCD_PXD008034_Ecoli_HCD2019_pred_and_emp.csv\": \"tryptic\",\n",
    "    \"HCD_PXD008034_Ecoli_Immuno-HCD_pred_and_emp.csv\": \"tryptic\",\n",
    "    \"spec_lib_PXD005231_HCD2019_pred_and_emp.csv\": \"HLA-I\",\n",
    "    \"spec_lib_PXD005231_HCD2021_pred_and_emp.csv\": \"HLA-I\",\n",
    "    \"spec_lib_PXD005231_Immuno-HCD_pred_and_emp.csv\": \"HLA-I\",\n",
    "    \"spec_lib_pxd020011_Immuno-HCD_pred_and_emp.csv\": \"HLA-II\",\n",
    "    \"spec_lib_pxd020011_HCD2019_pred_and_emp.csv\": \"HLA-II\",\n",
    "    \"spec_lib_pxd020011_HCD2021_pred_and_emp.csv\": \"HLA-II\",\n",
    "    \"test_spec_lib_PXD010154_HCD2021_pred_and_emp.csv\": \"chymotrypsin\",\n",
    "    \"test_spec_lib_PXD010154_HCD2019_pred_and_emp.csv\": \"chymotrypsin\",\n",
    "    \"test_spec_lib_PXD010154_Immuno-HCD_pred_and_emp.csv\": \"chymotrypsin\"}\n",
    "\n",
    "cid_tmt_map = {\n",
    "        \"spec_lib_pxd00589_CID-TMT_pred_and_emp.csv\": \"CID-TMT\",\n",
    "        \"spec_lib_pxd00589_CID_pred_and_emp.csv\": \"CID-TMT\",\n",
    "        \"spec_lib_pxd00589_TMT_pred_and_emp.csv\": \"CID-TMT\",\n",
    "        # \"spec_lib_pxd00589_HCD2021_pred_and_emp.csv\": \"CID-TMT\"\n",
    "}"
   ]
  },
  {
   "cell_type": "code",
   "execution_count": 4,
   "metadata": {},
   "outputs": [],
   "source": [
    "non_tryptic_correlations = pd.concat([data_loading(file, data_set_map) for file in data_set_map.keys()])\n",
    "non_tryptic_correlations['data'] = pd.Categorical(non_tryptic_correlations['data'],\n",
    "                                   categories=['tryptic', 'chymotrypsin', 'HLA-I', 'HLA-II'],\n",
    "                                   ordered=True)\n",
    "cid_tmt_correlations = pd.concat([data_loading(file, cid_tmt_map) for file in cid_tmt_map.keys()])"
   ]
  },
  {
   "attachments": {},
   "cell_type": "markdown",
   "metadata": {},
   "source": [
    "# Figure 1: Boxplots for novel tryptic models "
   ]
  },
  {
   "cell_type": "code",
   "execution_count": 20,
   "metadata": {},
   "outputs": [
    {
     "data": {
      "image/png": "[encoded data removed]",
      "text/plain": [
       "<Figure size 720x504 with 2 Axes>"
      ]
     },
     "execution_count": 20,
     "metadata": {},
     "output_type": "execute_result"
    }
   ],
   "source": [
    "fig = plt.Figure(figsize=(10,7))\n",
    "ax1 = plt.subplot2grid((1,4),(0,0), colspan=3, fig=fig)\n",
    "sns.boxplot(\n",
    "    data=non_tryptic_correlations,\n",
    "    x=\"data\",\n",
    "    y=\"pearson\",\n",
    "    hue=\"model\",\n",
    "    showfliers= False,\n",
    "    hue_order=[\"2019 HCD\", \"2021 HCD\", \"Immuno HCD\"],\n",
    "    ax=ax1,\n",
    "    width=0.7,\n",
    "    palette=sns.color_palette()\n",
    "\n",
    ")\n",
    "ax1.set_ylim(-0.6,1.1)\n",
    "ax1.set_xlabel(\"\")\n",
    "ax1.get_legend().set_title(\"\")\n",
    "for i ,patch in enumerate(ax1.patches):\n",
    "    if i not in [0,2,4 ,3,7, 11,14]:\n",
    "        patch.set_alpha(0.4)\n",
    "\n",
    "ax2 = plt.subplot2grid((1,4),(0,3), colspan=1, fig=fig, sharey=ax1)\n",
    "sns.boxplot(\n",
    "    data=cid_tmt_correlations,\n",
    "    x=\"data\",\n",
    "    y=\"pearson\",\n",
    "    hue=\"model\",\n",
    "    showfliers= False,\n",
    "    hue_order=[ \"CID\", \"TMT\", \"CID-TMT\"],\n",
    "    ax=ax2,\n",
    "    width=0.7,\n",
    "    palette=sns.color_palette([\"#6d597a\",\"#9dd9d2\" ,\"#ffc300\"])\n",
    ")\n",
    "\n",
    "for i ,patch in enumerate(ax2.patches):\n",
    "    if i in [0,2,4, 1,3]:\n",
    "        patch.set_alpha(0.4)\n",
    "\n",
    "ax2.set_ylim(-0.6,1.05)\n",
    "ax2.set_ylabel(\"\")\n",
    "ax2.set_xlabel(\"\")\n",
    "ax2.tick_params(labelleft=False)\n",
    "ax2.get_legend().set_title(\"\")\n",
    "\n",
    "fig.savefig(\"pearson_corr_plot.svg\")\n",
    "fig"
   ]
  },
  {
   "cell_type": "code",
   "execution_count": 7,
   "metadata": {},
   "outputs": [
    {
     "data": {
      "text/html": [
       "<div>\n",
       "<style scoped>\n",
       "    .dataframe tbody tr th:only-of-type {\n",
       "        vertical-align: middle;\n",
       "    }\n",
       "\n",
       "    .dataframe tbody tr th {\n",
       "        vertical-align: top;\n",
       "    }\n",
       "\n",
       "    .dataframe thead th {\n",
       "        text-align: right;\n",
       "    }\n",
       "</style>\n",
       "<table border=\"1\" class=\"dataframe\">\n",
       "  <thead>\n",
       "    <tr style=\"text-align: right;\">\n",
       "      <th></th>\n",
       "      <th></th>\n",
       "      <th>pearson</th>\n",
       "      <th>spec_id</th>\n",
       "    </tr>\n",
       "    <tr>\n",
       "      <th>data</th>\n",
       "      <th>model</th>\n",
       "      <th></th>\n",
       "      <th></th>\n",
       "    </tr>\n",
       "  </thead>\n",
       "  <tbody>\n",
       "    <tr>\n",
       "      <th rowspan=\"3\" valign=\"top\">tryptic</th>\n",
       "      <th>2019 HCD</th>\n",
       "      <td>0.910123</td>\n",
       "      <td>35212</td>\n",
       "    </tr>\n",
       "    <tr>\n",
       "      <th>2021 HCD</th>\n",
       "      <td>0.934454</td>\n",
       "      <td>35212</td>\n",
       "    </tr>\n",
       "    <tr>\n",
       "      <th>Immuno HCD</th>\n",
       "      <td>0.932352</td>\n",
       "      <td>35212</td>\n",
       "    </tr>\n",
       "    <tr>\n",
       "      <th rowspan=\"3\" valign=\"top\">chymotrypsin</th>\n",
       "      <th>2019 HCD</th>\n",
       "      <td>0.756812</td>\n",
       "      <td>25798</td>\n",
       "    </tr>\n",
       "    <tr>\n",
       "      <th>2021 HCD</th>\n",
       "      <td>0.886789</td>\n",
       "      <td>25570</td>\n",
       "    </tr>\n",
       "    <tr>\n",
       "      <th>Immuno HCD</th>\n",
       "      <td>0.842392</td>\n",
       "      <td>25798</td>\n",
       "    </tr>\n",
       "    <tr>\n",
       "      <th rowspan=\"3\" valign=\"top\">HLA-I</th>\n",
       "      <th>2019 HCD</th>\n",
       "      <td>0.805887</td>\n",
       "      <td>12534</td>\n",
       "    </tr>\n",
       "    <tr>\n",
       "      <th>2021 HCD</th>\n",
       "      <td>0.939815</td>\n",
       "      <td>12534</td>\n",
       "    </tr>\n",
       "    <tr>\n",
       "      <th>Immuno HCD</th>\n",
       "      <td>0.942002</td>\n",
       "      <td>12534</td>\n",
       "    </tr>\n",
       "    <tr>\n",
       "      <th rowspan=\"3\" valign=\"top\">HLA-II</th>\n",
       "      <th>2019 HCD</th>\n",
       "      <td>0.791316</td>\n",
       "      <td>12745</td>\n",
       "    </tr>\n",
       "    <tr>\n",
       "      <th>2021 HCD</th>\n",
       "      <td>0.911232</td>\n",
       "      <td>12745</td>\n",
       "    </tr>\n",
       "    <tr>\n",
       "      <th>Immuno HCD</th>\n",
       "      <td>0.913439</td>\n",
       "      <td>12745</td>\n",
       "    </tr>\n",
       "  </tbody>\n",
       "</table>\n",
       "</div>"
      ],
      "text/plain": [
       "                          pearson  spec_id\n",
       "data         model                        \n",
       "tryptic      2019 HCD    0.910123    35212\n",
       "             2021 HCD    0.934454    35212\n",
       "             Immuno HCD  0.932352    35212\n",
       "chymotrypsin 2019 HCD    0.756812    25798\n",
       "             2021 HCD    0.886789    25570\n",
       "             Immuno HCD  0.842392    25798\n",
       "HLA-I        2019 HCD    0.805887    12534\n",
       "             2021 HCD    0.939815    12534\n",
       "             Immuno HCD  0.942002    12534\n",
       "HLA-II       2019 HCD    0.791316    12745\n",
       "             2021 HCD    0.911232    12745\n",
       "             Immuno HCD  0.913439    12745"
      ]
     },
     "execution_count": 7,
     "metadata": {},
     "output_type": "execute_result"
    }
   ],
   "source": [
    "non_tryptic_correlations.groupby([\"data\", \"model\"]).agg({\"pearson\": \"median\", \"spec_id\": \"count\"})"
   ]
  },
  {
   "cell_type": "code",
   "execution_count": 8,
   "metadata": {},
   "outputs": [
    {
     "data": {
      "text/html": [
       "<div>\n",
       "<style scoped>\n",
       "    .dataframe tbody tr th:only-of-type {\n",
       "        vertical-align: middle;\n",
       "    }\n",
       "\n",
       "    .dataframe tbody tr th {\n",
       "        vertical-align: top;\n",
       "    }\n",
       "\n",
       "    .dataframe thead th {\n",
       "        text-align: right;\n",
       "    }\n",
       "</style>\n",
       "<table border=\"1\" class=\"dataframe\">\n",
       "  <thead>\n",
       "    <tr style=\"text-align: right;\">\n",
       "      <th></th>\n",
       "      <th></th>\n",
       "      <th>pearson</th>\n",
       "      <th>spec_id</th>\n",
       "    </tr>\n",
       "    <tr>\n",
       "      <th>data</th>\n",
       "      <th>model</th>\n",
       "      <th></th>\n",
       "      <th></th>\n",
       "    </tr>\n",
       "  </thead>\n",
       "  <tbody>\n",
       "    <tr>\n",
       "      <th rowspan=\"3\" valign=\"top\">CID-TMT</th>\n",
       "      <th>CID</th>\n",
       "      <td>0.417447</td>\n",
       "      <td>69768</td>\n",
       "    </tr>\n",
       "    <tr>\n",
       "      <th>CID-TMT</th>\n",
       "      <td>0.844415</td>\n",
       "      <td>69768</td>\n",
       "    </tr>\n",
       "    <tr>\n",
       "      <th>TMT</th>\n",
       "      <td>0.639954</td>\n",
       "      <td>69768</td>\n",
       "    </tr>\n",
       "  </tbody>\n",
       "</table>\n",
       "</div>"
      ],
      "text/plain": [
       "                  pearson  spec_id\n",
       "data    model                     \n",
       "CID-TMT CID      0.417447    69768\n",
       "        CID-TMT  0.844415    69768\n",
       "        TMT      0.639954    69768"
      ]
     },
     "execution_count": 8,
     "metadata": {},
     "output_type": "execute_result"
    }
   ],
   "source": [
    "cid_tmt_correlations.groupby([\"data\", \"model\"]).agg({\"pearson\": \"median\", \"spec_id\": \"count\"})"
   ]
  },
  {
   "attachments": {},
   "cell_type": "markdown",
   "metadata": {},
   "source": [
    "## Figure S1: chymotrypsin predictions based on length"
   ]
  },
  {
   "cell_type": "code",
   "execution_count": 9,
   "metadata": {},
   "outputs": [
    {
     "name": "stderr",
     "output_type": "stream",
     "text": [
      "/tmp/ipykernel_3666314/370358189.py:2: SettingWithCopyWarning: \n",
      "A value is trying to be set on a copy of a slice from a DataFrame.\n",
      "Try using .loc[row_indexer,col_indexer] = value instead\n",
      "\n",
      "See the caveats in the documentation: https://pandas.pydata.org/pandas-docs/stable/user_guide/indexing.html#returning-a-view-versus-a-copy\n",
      "  chymotrypsin[\"length\"] = chymotrypsin[\"spec_id\"].map(dict(zip(peprec_pxd010154[\"spec_id\"], peprec_pxd010154[\"peptide\"].apply(len))))\n"
     ]
    }
   ],
   "source": [
    "peprec_pxd010154 = pd.read_table(\"/home/arthur/ms2pip-nar-manuscript/test_spec_lib_PXD010154.peprec\", sep=\" \")\n",
    "chymotrypsin = non_tryptic_correlations[non_tryptic_correlations[\"data\"] == \"chymotrypsin\"]\n",
    "chymotrypsin[\"length\"] = chymotrypsin[\"spec_id\"].map(dict(zip(peprec_pxd010154[\"spec_id\"], peprec_pxd010154[\"peptide\"].apply(len))))"
   ]
  },
  {
   "cell_type": "code",
   "execution_count": 16,
   "metadata": {},
   "outputs": [
    {
     "data": {
      "image/png": "[encoded data removed]",
      "text/plain": [
       "<Figure size 1080x864 with 2 Axes>"
      ]
     },
     "metadata": {},
     "output_type": "display_data"
    }
   ],
   "source": [
    "fig = plt.figure()\n",
    "sns.set(style=\"whitegrid\")\n",
    "\n",
    "fig.add_subplot(211)\n",
    "\n",
    "ax = sns.countplot(\n",
    "x=\"length\",\n",
    "data=chymotrypsin,\n",
    "color=\"#EAEAEA\")\n",
    "ax.axes.set_ylabel(\"number of peptides\")\n",
    "ax.axes.set_ylim([0,14000])\n",
    "ax2=ax.twinx()\n",
    "ax2 = sns.pointplot(\n",
    "x=\"length\",\n",
    "y=\"pearson\",\n",
    "hue=\"model\",\n",
    "hue_order=[\"2019 HCD\", \"2021 HCD\", \"Immuno HCD\"],\n",
    "showfliers=False,\n",
    "data=chymotrypsin,\n",
    "legend= False)\n",
    "ax2.axes.set_ylim([0.25,0.95])\n",
    "ax2.set_xlim(0,35)\n",
    "ax2.legend(bbox_to_anchor=(.30, 0.19), frameon=True)\n",
    "fig.set_size_inches(15, 12)\n",
    "plt.savefig(\"FigureS1.svg\")\n",
    "plt.show()"
   ]
  },
  {
   "attachments": {},
   "cell_type": "markdown",
   "metadata": {},
   "source": [
    "## Figure S2: intensity variance "
   ]
  },
  {
   "cell_type": "code",
   "execution_count": 40,
   "metadata": {},
   "outputs": [
    {
     "data": {
      "text/plain": [
       "cid vs tmt        0.231494\n",
       "cid vs cid-tmt    0.439278\n",
       "tmt vs cid-tmt    0.580408\n",
       "dtype: float64"
      ]
     },
     "execution_count": 40,
     "metadata": {},
     "output_type": "execute_result"
    }
   ],
   "source": [
    "correlation_df = pd.read_table(\"/home/arthur/ms2pip-nar-manuscript/intensity_dataframe.txt\", sep=\"\\t\")\n",
    "for target in [\"target_cid\", \"target_tmt\", \"target_cid_tmt\"]:\n",
    "    correlation_df[target] = correlation_df[target].apply(convert_liststring_to_list)\n",
    "\n",
    "\n",
    "correlation_df[\"cid vs tmt\"] = correlation_df.apply(lambda x: ms2pip_pearson(x.target_cid, x.target_tmt), axis=1)\n",
    "correlation_df[\"cid vs cid-tmt\"] = correlation_df.apply(lambda x: ms2pip_pearson(x.target_cid, x.target_cid_tmt), axis=1)\n",
    "correlation_df[\"tmt vs cid-tmt\"] = correlation_df.apply(lambda x: ms2pip_pearson(x.target_tmt, x.target_cid_tmt), axis=1)\n",
    "\n"
   ]
  },
  {
   "cell_type": "code",
   "execution_count": 59,
   "metadata": {},
   "outputs": [
    {
     "data": {
      "text/html": [
       "<div>\n",
       "<style scoped>\n",
       "    .dataframe tbody tr th:only-of-type {\n",
       "        vertical-align: middle;\n",
       "    }\n",
       "\n",
       "    .dataframe tbody tr th {\n",
       "        vertical-align: top;\n",
       "    }\n",
       "\n",
       "    .dataframe thead th {\n",
       "        text-align: right;\n",
       "    }\n",
       "</style>\n",
       "<table border=\"1\" class=\"dataframe\">\n",
       "  <thead>\n",
       "    <tr style=\"text-align: right;\">\n",
       "      <th></th>\n",
       "      <th>peptide</th>\n",
       "      <th>charge</th>\n",
       "      <th>comparison</th>\n",
       "      <th>correlation</th>\n",
       "    </tr>\n",
       "  </thead>\n",
       "  <tbody>\n",
       "    <tr>\n",
       "      <th>0</th>\n",
       "      <td>VSPVSYLR</td>\n",
       "      <td>2</td>\n",
       "      <td>cid vs tmt</td>\n",
       "      <td>-0.101978</td>\n",
       "    </tr>\n",
       "    <tr>\n",
       "      <th>1</th>\n",
       "      <td>LVMAAANR</td>\n",
       "      <td>2</td>\n",
       "      <td>cid vs tmt</td>\n",
       "      <td>-0.160815</td>\n",
       "    </tr>\n",
       "    <tr>\n",
       "      <th>2</th>\n",
       "      <td>LAASGEGGLQELSGHFENQK</td>\n",
       "      <td>3</td>\n",
       "      <td>cid vs tmt</td>\n",
       "      <td>0.695381</td>\n",
       "    </tr>\n",
       "    <tr>\n",
       "      <th>3</th>\n",
       "      <td>EHAIEEWK</td>\n",
       "      <td>3</td>\n",
       "      <td>cid vs tmt</td>\n",
       "      <td>0.609284</td>\n",
       "    </tr>\n",
       "    <tr>\n",
       "      <th>4</th>\n",
       "      <td>GVGDGTVSWGLEDDEDMTLTR</td>\n",
       "      <td>3</td>\n",
       "      <td>cid vs tmt</td>\n",
       "      <td>0.441028</td>\n",
       "    </tr>\n",
       "    <tr>\n",
       "      <th>...</th>\n",
       "      <td>...</td>\n",
       "      <td>...</td>\n",
       "      <td>...</td>\n",
       "      <td>...</td>\n",
       "    </tr>\n",
       "    <tr>\n",
       "      <th>10597</th>\n",
       "      <td>VPELYEIHK</td>\n",
       "      <td>3</td>\n",
       "      <td>tmt vs cid-tmt</td>\n",
       "      <td>0.905789</td>\n",
       "    </tr>\n",
       "    <tr>\n",
       "      <th>10598</th>\n",
       "      <td>DDAYWPEAK</td>\n",
       "      <td>2</td>\n",
       "      <td>tmt vs cid-tmt</td>\n",
       "      <td>0.696074</td>\n",
       "    </tr>\n",
       "    <tr>\n",
       "      <th>10599</th>\n",
       "      <td>VDDVYSVLR</td>\n",
       "      <td>2</td>\n",
       "      <td>tmt vs cid-tmt</td>\n",
       "      <td>0.190954</td>\n",
       "    </tr>\n",
       "    <tr>\n",
       "      <th>10600</th>\n",
       "      <td>LAQGHTTVDELAR</td>\n",
       "      <td>3</td>\n",
       "      <td>tmt vs cid-tmt</td>\n",
       "      <td>0.831351</td>\n",
       "    </tr>\n",
       "    <tr>\n",
       "      <th>10601</th>\n",
       "      <td>DVFIIQTVSK</td>\n",
       "      <td>2</td>\n",
       "      <td>tmt vs cid-tmt</td>\n",
       "      <td>0.676566</td>\n",
       "    </tr>\n",
       "  </tbody>\n",
       "</table>\n",
       "<p>10602 rows × 4 columns</p>\n",
       "</div>"
      ],
      "text/plain": [
       "                     peptide  charge      comparison  correlation\n",
       "0                   VSPVSYLR       2      cid vs tmt    -0.101978\n",
       "1                   LVMAAANR       2      cid vs tmt    -0.160815\n",
       "2       LAASGEGGLQELSGHFENQK       3      cid vs tmt     0.695381\n",
       "3                   EHAIEEWK       3      cid vs tmt     0.609284\n",
       "4      GVGDGTVSWGLEDDEDMTLTR       3      cid vs tmt     0.441028\n",
       "...                      ...     ...             ...          ...\n",
       "10597              VPELYEIHK       3  tmt vs cid-tmt     0.905789\n",
       "10598              DDAYWPEAK       2  tmt vs cid-tmt     0.696074\n",
       "10599              VDDVYSVLR       2  tmt vs cid-tmt     0.190954\n",
       "10600          LAQGHTTVDELAR       3  tmt vs cid-tmt     0.831351\n",
       "10601             DVFIIQTVSK       2  tmt vs cid-tmt     0.676566\n",
       "\n",
       "[10602 rows x 4 columns]"
      ]
     },
     "execution_count": 59,
     "metadata": {},
     "output_type": "execute_result"
    }
   ],
   "source": []
  },
  {
   "cell_type": "code",
   "execution_count": 67,
   "metadata": {},
   "outputs": [
    {
     "data": {
      "image/png": "[encoded data removed]",
      "text/plain": [
       "<Figure size 360x576 with 1 Axes>"
      ]
     },
     "execution_count": 67,
     "metadata": {},
     "output_type": "execute_result"
    }
   ],
   "source": [
    "fig = plt.Figure(figsize=(5,8))\n",
    "ax = fig.add_subplot(111)\n",
    "sns.boxplot(\n",
    "    data=correlation_df.melt(id_vars=[\"peptide\", \"charge\"], value_vars=[\"cid vs tmt\", \"cid vs cid-tmt\", \"tmt vs cid-tmt\"], var_name=\"comparison\", value_name=\"correlation\"),\n",
    "    x=\"comparison\",\n",
    "    y=\"correlation\",\n",
    "    width=0.6,\n",
    "    palette=sns.color_palette([\"#8599a6\", \"#b68e3d\", \"#c4d07e\"]),\n",
    "    showfliers=False,\n",
    "    ax=ax\n",
    ")\n",
    "ax.set_xlabel(\"\")\n",
    "fig"
   ]
  },
  {
   "cell_type": "code",
   "execution_count": 55,
   "metadata": {},
   "outputs": [
    {
     "data": {
      "text/plain": [
       "<AxesSubplot:>"
      ]
     },
     "execution_count": 55,
     "metadata": {},
     "output_type": "execute_result"
    },
    {
     "data": {
      "image/png": "[encoded data removed]",
      "text/plain": [
       "<Figure size 432x288 with 1 Axes>"
      ]
     },
     "metadata": {},
     "output_type": "display_data"
    }
   ],
   "source": [
    "matrix = pd.DataFrame({\"CID\": [1, 0.23, 0.43],\n",
    "    \"TMT\": [0.23, 1, 0.58],\n",
    "    \"CID-TMT\": [0.43, 0.58, 1]}, index=[\"CID\", \"TMT\", \"CID-TMT\"])\n",
    "cmap = sns.cubehelix_palette(100, start=.3, rot=0.3, dark=0, light=.95, reverse=False)\n",
    "sns.heatmap(\n",
    "    matrix,\n",
    "    square=True, \n",
    "    annot=True, \n",
    "    cmap=cmap, \n",
    "    cbar=False,\n",
    "    mask=np.triu(matrix)\n",
    ")"
   ]
  },
  {
   "cell_type": "code",
   "execution_count": null,
   "metadata": {},
   "outputs": [],
   "source": []
  }
 ],
 "metadata": {
  "kernelspec": {
   "display_name": "ms2rescore-dev",
   "language": "python",
   "name": "python3"
  },
  "language_info": {
   "codemirror_mode": {
    "name": "ipython",
    "version": 3
   },
   "file_extension": ".py",
   "mimetype": "text/x-python",
   "name": "python",
   "nbconvert_exporter": "python",
   "pygments_lexer": "ipython3",
   "version": "3.8.13"
  },
  "orig_nbformat": 4,
  "vscode": {
   "interpreter": {
    "hash": "3a992aeaf1e78fad6632c48473718499630bbbcdb40758bf999764e164457ef2"
   }
  }
 },
 "nbformat": 4,
 "nbformat_minor": 2
}
